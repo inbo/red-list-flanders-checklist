{
 "cells": [
  {
   "cell_type": "code",
   "execution_count": 1,
   "metadata": {
    "collapsed": true
   },
   "outputs": [],
   "source": [
    "import json\n",
    "import requests\n",
    "\n",
    "import pandas as pd"
   ]
  },
  {
   "cell_type": "code",
   "execution_count": 2,
   "metadata": {
    "collapsed": true
   },
   "outputs": [],
   "source": [
    "from gbif_species_name_match import (extract_gbif_species_names_info, \n",
    "                                     extract_species_information,\n",
    "                                     extract_gbif_accepted_key)"
   ]
  },
  {
   "cell_type": "code",
   "execution_count": 3,
   "metadata": {
    "collapsed": false
   },
   "outputs": [],
   "source": [
    "UnvalidatedLastCheck = pd.read_csv(\"4DimiCheckUnvalidated5.csv\",delimiter=';')"
   ]
  },
  {
   "cell_type": "code",
   "execution_count": 4,
   "metadata": {
    "collapsed": false
   },
   "outputs": [
    {
     "name": "stdout",
     "output_type": "stream",
     "text": [
      "Using columns scientificName and Kingdom for API request.\n"
     ]
    }
   ],
   "source": [
    "UnvalidatedLastCheck = extract_species_information(\"4DimiCheckUnvalidated5.csv\", output=None, api_terms=\"all\")"
   ]
  },
  {
   "cell_type": "code",
   "execution_count": 6,
   "metadata": {
    "collapsed": false
   },
   "outputs": [
    {
     "data": {
      "text/html": [
       "<div>\n",
       "<table border=\"1\" class=\"dataframe\">\n",
       "  <thead>\n",
       "    <tr style=\"text-align: right;\">\n",
       "      <th></th>\n",
       "      <th>Id</th>\n",
       "      <th>UniqueID</th>\n",
       "      <th>TaxonomicGroup</th>\n",
       "      <th>YearPublished</th>\n",
       "      <th>Kingdom</th>\n",
       "      <th>verbatimScientificName</th>\n",
       "      <th>scientificNameFirstMatch</th>\n",
       "      <th>scientificName</th>\n",
       "      <th>gbifapi_species</th>\n",
       "      <th>vernacularname</th>\n",
       "      <th>...</th>\n",
       "      <th>gbifapi_orderKey</th>\n",
       "      <th>gbifapi_phylum</th>\n",
       "      <th>gbifapi_phylumKey</th>\n",
       "      <th>gbifapi_rank</th>\n",
       "      <th>gbifapi_scientificName</th>\n",
       "      <th>gbifapi_species</th>\n",
       "      <th>gbifapi_speciesKey</th>\n",
       "      <th>gbifapi_status</th>\n",
       "      <th>gbifapi_synonym</th>\n",
       "      <th>gbifapi_usageKey</th>\n",
       "    </tr>\n",
       "  </thead>\n",
       "  <tbody>\n",
       "    <tr>\n",
       "      <th>0</th>\n",
       "      <td>2</td>\n",
       "      <td>INBO:RL:NONVAL:ANT:2013:39</td>\n",
       "      <td>Ants</td>\n",
       "      <td>2003</td>\n",
       "      <td>Animalia</td>\n",
       "      <td>Formica rufa x polyctena</td>\n",
       "      <td>NaN</td>\n",
       "      <td>Formica rufa x polyctena</td>\n",
       "      <td>NaN</td>\n",
       "      <td>hybride van Formica rufa-complex</td>\n",
       "      <td>...</td>\n",
       "      <td>NaN</td>\n",
       "      <td>NaN</td>\n",
       "      <td>NaN</td>\n",
       "      <td>NaN</td>\n",
       "      <td>NaN</td>\n",
       "      <td>NaN</td>\n",
       "      <td>NaN</td>\n",
       "      <td>NaN</td>\n",
       "      <td>NaN</td>\n",
       "      <td>NaN</td>\n",
       "    </tr>\n",
       "    <tr>\n",
       "      <th>1</th>\n",
       "      <td>16</td>\n",
       "      <td>INBO:RL:NONVAL:CAR:1995:840</td>\n",
       "      <td>CarabidBeetles</td>\n",
       "      <td>1995</td>\n",
       "      <td>Animalia</td>\n",
       "      <td>Bembidion maritimum</td>\n",
       "      <td>Bembidion maritimum (Motschulsky 1850)</td>\n",
       "      <td>Bembidion maritimum (Stephens, 1835)</td>\n",
       "      <td>NaN</td>\n",
       "      <td>Brakwaterpriemkever</td>\n",
       "      <td>...</td>\n",
       "      <td>1470</td>\n",
       "      <td>Arthropoda</td>\n",
       "      <td>54</td>\n",
       "      <td>SPECIES</td>\n",
       "      <td>Bembidion maritimum (Stephens, 1839)</td>\n",
       "      <td>Tachys bistriatus</td>\n",
       "      <td>7582513</td>\n",
       "      <td>SYNONYM</td>\n",
       "      <td>True</td>\n",
       "      <td>8949009</td>\n",
       "    </tr>\n",
       "    <tr>\n",
       "      <th>2</th>\n",
       "      <td>19</td>\n",
       "      <td>INBO:RL:NONVAL:CAR:1995:865</td>\n",
       "      <td>CarabidBeetles</td>\n",
       "      <td>1995</td>\n",
       "      <td>Animalia</td>\n",
       "      <td>Bembidion velox</td>\n",
       "      <td>Bembidion velox Erichson 1837</td>\n",
       "      <td>Bembidion velox (Linnaeus, 1760)</td>\n",
       "      <td>NaN</td>\n",
       "      <td>Snelle priemkever</td>\n",
       "      <td>...</td>\n",
       "      <td>NaN</td>\n",
       "      <td>NaN</td>\n",
       "      <td>NaN</td>\n",
       "      <td>NaN</td>\n",
       "      <td>NaN</td>\n",
       "      <td>NaN</td>\n",
       "      <td>NaN</td>\n",
       "      <td>NaN</td>\n",
       "      <td>NaN</td>\n",
       "      <td>NaN</td>\n",
       "    </tr>\n",
       "    <tr>\n",
       "      <th>3</th>\n",
       "      <td>22</td>\n",
       "      <td>INBO:RL:NONVAL:CAR:1995:968</td>\n",
       "      <td>CarabidBeetles</td>\n",
       "      <td>1995</td>\n",
       "      <td>Animalia</td>\n",
       "      <td>Harpalus cordatus</td>\n",
       "      <td>Harpalus cordatus (LeConte 1853)</td>\n",
       "      <td>Ophonus cordatus</td>\n",
       "      <td>NaN</td>\n",
       "      <td>Duinhalmklimmer</td>\n",
       "      <td>...</td>\n",
       "      <td>1470</td>\n",
       "      <td>Arthropoda</td>\n",
       "      <td>54</td>\n",
       "      <td>SPECIES</td>\n",
       "      <td>Ophonus cordatus (Duftschmid, 1812)</td>\n",
       "      <td>Ophonus cordatus</td>\n",
       "      <td>9178241</td>\n",
       "      <td>ACCEPTED</td>\n",
       "      <td>False</td>\n",
       "      <td>9178241</td>\n",
       "    </tr>\n",
       "    <tr>\n",
       "      <th>4</th>\n",
       "      <td>25</td>\n",
       "      <td>INBO:RL:NONVAL:CAR:1995:981</td>\n",
       "      <td>CarabidBeetles</td>\n",
       "      <td>1995</td>\n",
       "      <td>Animalia</td>\n",
       "      <td>Harpalus nitidulus</td>\n",
       "      <td>Harpalus fulgens</td>\n",
       "      <td>Ophonus laticollis</td>\n",
       "      <td>NaN</td>\n",
       "      <td>!!Groene halmklimmer</td>\n",
       "      <td>...</td>\n",
       "      <td>1470</td>\n",
       "      <td>Arthropoda</td>\n",
       "      <td>54</td>\n",
       "      <td>SPECIES</td>\n",
       "      <td>Ophonus laticollis Mannerheim, 1825</td>\n",
       "      <td>Ophonus laticollis</td>\n",
       "      <td>4475157</td>\n",
       "      <td>ACCEPTED</td>\n",
       "      <td>False</td>\n",
       "      <td>4475157</td>\n",
       "    </tr>\n",
       "  </tbody>\n",
       "</table>\n",
       "<p>5 rows × 51 columns</p>\n",
       "</div>"
      ],
      "text/plain": [
       "   Id                     UniqueID  TaxonomicGroup YearPublished   Kingdom  \\\n",
       "0   2   INBO:RL:NONVAL:ANT:2013:39            Ants          2003  Animalia   \n",
       "1  16  INBO:RL:NONVAL:CAR:1995:840  CarabidBeetles          1995  Animalia   \n",
       "2  19  INBO:RL:NONVAL:CAR:1995:865  CarabidBeetles          1995  Animalia   \n",
       "3  22  INBO:RL:NONVAL:CAR:1995:968  CarabidBeetles          1995  Animalia   \n",
       "4  25  INBO:RL:NONVAL:CAR:1995:981  CarabidBeetles          1995  Animalia   \n",
       "\n",
       "     verbatimScientificName                scientificNameFirstMatch  \\\n",
       "0  Formica rufa x polyctena                                     NaN   \n",
       "1       Bembidion maritimum  Bembidion maritimum (Motschulsky 1850)   \n",
       "2           Bembidion velox           Bembidion velox Erichson 1837   \n",
       "3         Harpalus cordatus        Harpalus cordatus (LeConte 1853)   \n",
       "4        Harpalus nitidulus                        Harpalus fulgens   \n",
       "\n",
       "                         scientificName gbifapi_species  \\\n",
       "0              Formica rufa x polyctena             NaN   \n",
       "1  Bembidion maritimum (Stephens, 1835)             NaN   \n",
       "2      Bembidion velox (Linnaeus, 1760)             NaN   \n",
       "3                      Ophonus cordatus             NaN   \n",
       "4                    Ophonus laticollis             NaN   \n",
       "\n",
       "                     vernacularname       ...        gbifapi_orderKey  \\\n",
       "0  hybride van Formica rufa-complex       ...                     NaN   \n",
       "1               Brakwaterpriemkever       ...                    1470   \n",
       "2                 Snelle priemkever       ...                     NaN   \n",
       "3                   Duinhalmklimmer       ...                    1470   \n",
       "4              !!Groene halmklimmer       ...                    1470   \n",
       "\n",
       "  gbifapi_phylum gbifapi_phylumKey gbifapi_rank  \\\n",
       "0            NaN               NaN          NaN   \n",
       "1     Arthropoda                54      SPECIES   \n",
       "2            NaN               NaN          NaN   \n",
       "3     Arthropoda                54      SPECIES   \n",
       "4     Arthropoda                54      SPECIES   \n",
       "\n",
       "                 gbifapi_scientificName     gbifapi_species  \\\n",
       "0                                   NaN                 NaN   \n",
       "1  Bembidion maritimum (Stephens, 1839)   Tachys bistriatus   \n",
       "2                                   NaN                 NaN   \n",
       "3   Ophonus cordatus (Duftschmid, 1812)    Ophonus cordatus   \n",
       "4   Ophonus laticollis Mannerheim, 1825  Ophonus laticollis   \n",
       "\n",
       "  gbifapi_speciesKey gbifapi_status gbifapi_synonym gbifapi_usageKey  \n",
       "0                NaN            NaN             NaN              NaN  \n",
       "1            7582513        SYNONYM            True          8949009  \n",
       "2                NaN            NaN             NaN              NaN  \n",
       "3            9178241       ACCEPTED           False          9178241  \n",
       "4            4475157       ACCEPTED           False          4475157  \n",
       "\n",
       "[5 rows x 51 columns]"
      ]
     },
     "execution_count": 6,
     "metadata": {},
     "output_type": "execute_result"
    }
   ],
   "source": [
    "UnvalidatedLastCheck.head()"
   ]
  },
  {
   "cell_type": "code",
   "execution_count": 8,
   "metadata": {
    "collapsed": false
   },
   "outputs": [],
   "source": [
    "UnvalidatedLastCheck.to_csv(\"unvalidatedRedListTestDirkMatch.csv\", index=False)"
   ]
  },
  {
   "cell_type": "code",
   "execution_count": null,
   "metadata": {
    "collapsed": true
   },
   "outputs": [],
   "source": []
  }
 ],
 "metadata": {
  "kernelspec": {
   "display_name": "Python 3",
   "language": "python",
   "name": "python3"
  },
  "language_info": {
   "codemirror_mode": {
    "name": "ipython",
    "version": 3
   },
   "file_extension": ".py",
   "mimetype": "text/x-python",
   "name": "python",
   "nbconvert_exporter": "python",
   "pygments_lexer": "ipython3",
   "version": "3.6.0"
  }
 },
 "nbformat": 4,
 "nbformat_minor": 2
}
