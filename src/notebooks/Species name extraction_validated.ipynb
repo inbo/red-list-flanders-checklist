{
 "cells": [
  {
   "cell_type": "markdown",
   "metadata": {},
   "source": [
    "**Species name extraction**"
   ]
  },
  {
   "cell_type": "code",
   "execution_count": 1,
   "metadata": {
    "collapsed": true
   },
   "outputs": [],
   "source": [
    "import json\n",
    "import requests\n",
    "\n",
    "import pandas as pd"
   ]
  },
  {
   "cell_type": "code",
   "execution_count": 2,
   "metadata": {
    "collapsed": false
   },
   "outputs": [],
   "source": [
    "from gbif_species_name_match import (extract_gbif_species_names_info, \n",
    "                                     extract_species_information,\n",
    "                                     extract_gbif_accepted_key)"
   ]
  },
  {
   "cell_type": "code",
   "execution_count": 28,
   "metadata": {
    "collapsed": false
   },
   "outputs": [],
   "source": [
    "redListVal = pd.read_csv(\"../processed/validatedRedList-Exploratory-REfine-Notebook-Refine-final-Output-rematch3ready.csv\")"
   ]
  },
  {
   "cell_type": "code",
   "execution_count": 29,
   "metadata": {
    "collapsed": false,
    "scrolled": true
   },
   "outputs": [
    {
     "data": {
      "text/html": [
       "<div>\n",
       "<table border=\"1\" class=\"dataframe\">\n",
       "  <thead>\n",
       "    <tr style=\"text-align: right;\">\n",
       "      <th></th>\n",
       "      <th>taxonID</th>\n",
       "      <th>TaxonomicGroup</th>\n",
       "      <th>YearPublished</th>\n",
       "      <th>Kingdom</th>\n",
       "      <th>Phylum</th>\n",
       "      <th>Class</th>\n",
       "      <th>Order</th>\n",
       "      <th>Family</th>\n",
       "      <th>Genus</th>\n",
       "      <th>Species</th>\n",
       "      <th>...</th>\n",
       "      <th>locationID</th>\n",
       "      <th>locality</th>\n",
       "      <th>countryCode</th>\n",
       "      <th>occurrencestatus</th>\n",
       "      <th>threadStatus</th>\n",
       "      <th>RLCAsPublished</th>\n",
       "      <th>RLC</th>\n",
       "      <th>eventDate</th>\n",
       "      <th>language2</th>\n",
       "      <th>Checklist</th>\n",
       "    </tr>\n",
       "  </thead>\n",
       "  <tbody>\n",
       "    <tr>\n",
       "      <th>0</th>\n",
       "      <td>INBO:RL:VAL:AMP:2013:15</td>\n",
       "      <td>Amphibians</td>\n",
       "      <td>2013</td>\n",
       "      <td>Animalia</td>\n",
       "      <td>Chordata</td>\n",
       "      <td>Amphibia</td>\n",
       "      <td>Anura</td>\n",
       "      <td>Alytidae</td>\n",
       "      <td>Alytes</td>\n",
       "      <td>obstetricans</td>\n",
       "      <td>...</td>\n",
       "      <td>http://marineregions.org/mrgid/2469</td>\n",
       "      <td>Flanders</td>\n",
       "      <td>BE</td>\n",
       "      <td>present</td>\n",
       "      <td>Endangered (EN)</td>\n",
       "      <td>Bedreigd</td>\n",
       "      <td>EN</td>\n",
       "      <td>to complete</td>\n",
       "      <td>nl</td>\n",
       "      <td>validated</td>\n",
       "    </tr>\n",
       "    <tr>\n",
       "      <th>1</th>\n",
       "      <td>INBO:RL:VAL:AMP:2013:16</td>\n",
       "      <td>Amphibians</td>\n",
       "      <td>2013</td>\n",
       "      <td>Animalia</td>\n",
       "      <td>Chordata</td>\n",
       "      <td>Amphibia</td>\n",
       "      <td>Anura</td>\n",
       "      <td>Bombinatoridae</td>\n",
       "      <td>Bombina</td>\n",
       "      <td>variegata</td>\n",
       "      <td>...</td>\n",
       "      <td>http://marineregions.org/mrgid/2469</td>\n",
       "      <td>Flanders</td>\n",
       "      <td>BE</td>\n",
       "      <td>present</td>\n",
       "      <td>Regionally Extinct (EX)</td>\n",
       "      <td>Regionaal uitgestorven</td>\n",
       "      <td>RE</td>\n",
       "      <td>to complete</td>\n",
       "      <td>nl</td>\n",
       "      <td>validated</td>\n",
       "    </tr>\n",
       "    <tr>\n",
       "      <th>2</th>\n",
       "      <td>INBO:RL:VAL:AMP:2013:17</td>\n",
       "      <td>Amphibians</td>\n",
       "      <td>2013</td>\n",
       "      <td>Animalia</td>\n",
       "      <td>Chordata</td>\n",
       "      <td>Amphibia</td>\n",
       "      <td>Anura</td>\n",
       "      <td>Bufonidae</td>\n",
       "      <td>Bufo</td>\n",
       "      <td>bufo</td>\n",
       "      <td>...</td>\n",
       "      <td>http://marineregions.org/mrgid/2469</td>\n",
       "      <td>Flanders</td>\n",
       "      <td>BE</td>\n",
       "      <td>present</td>\n",
       "      <td>Least Concern (LC)</td>\n",
       "      <td>Momenteel niet in gevaar</td>\n",
       "      <td>LC</td>\n",
       "      <td>to complete</td>\n",
       "      <td>nl</td>\n",
       "      <td>validated</td>\n",
       "    </tr>\n",
       "    <tr>\n",
       "      <th>3</th>\n",
       "      <td>INBO:RL:VAL:AMP:2013:18</td>\n",
       "      <td>Amphibians</td>\n",
       "      <td>2013</td>\n",
       "      <td>Animalia</td>\n",
       "      <td>Chordata</td>\n",
       "      <td>Amphibia</td>\n",
       "      <td>Anura</td>\n",
       "      <td>Bufonidae</td>\n",
       "      <td>Bufo</td>\n",
       "      <td>calamita</td>\n",
       "      <td>...</td>\n",
       "      <td>http://marineregions.org/mrgid/2469</td>\n",
       "      <td>Flanders</td>\n",
       "      <td>BE</td>\n",
       "      <td>present</td>\n",
       "      <td>Vulnerable (VU)</td>\n",
       "      <td>Kwetsbaar</td>\n",
       "      <td>VU</td>\n",
       "      <td>to complete</td>\n",
       "      <td>nl</td>\n",
       "      <td>validated</td>\n",
       "    </tr>\n",
       "    <tr>\n",
       "      <th>4</th>\n",
       "      <td>INBO:RL:VAL:AMP:2013:19</td>\n",
       "      <td>Amphibians</td>\n",
       "      <td>2013</td>\n",
       "      <td>Animalia</td>\n",
       "      <td>Chordata</td>\n",
       "      <td>Amphibia</td>\n",
       "      <td>Anura</td>\n",
       "      <td>Hylidae</td>\n",
       "      <td>Hyla</td>\n",
       "      <td>arborea</td>\n",
       "      <td>...</td>\n",
       "      <td>http://marineregions.org/mrgid/2469</td>\n",
       "      <td>Flanders</td>\n",
       "      <td>BE</td>\n",
       "      <td>present</td>\n",
       "      <td>Critically Endangered (CR)</td>\n",
       "      <td>Ernstig bedreigd</td>\n",
       "      <td>CR</td>\n",
       "      <td>to complete</td>\n",
       "      <td>nl</td>\n",
       "      <td>validated</td>\n",
       "    </tr>\n",
       "  </tbody>\n",
       "</table>\n",
       "<p>5 rows × 39 columns</p>\n",
       "</div>"
      ],
      "text/plain": [
       "                   taxonID TaxonomicGroup  YearPublished   Kingdom    Phylum  \\\n",
       "0  INBO:RL:VAL:AMP:2013:15     Amphibians           2013  Animalia  Chordata   \n",
       "1  INBO:RL:VAL:AMP:2013:16     Amphibians           2013  Animalia  Chordata   \n",
       "2  INBO:RL:VAL:AMP:2013:17     Amphibians           2013  Animalia  Chordata   \n",
       "3  INBO:RL:VAL:AMP:2013:18     Amphibians           2013  Animalia  Chordata   \n",
       "4  INBO:RL:VAL:AMP:2013:19     Amphibians           2013  Animalia  Chordata   \n",
       "\n",
       "      Class  Order          Family    Genus       Species    ...      \\\n",
       "0  Amphibia  Anura        Alytidae   Alytes  obstetricans    ...       \n",
       "1  Amphibia  Anura  Bombinatoridae  Bombina     variegata    ...       \n",
       "2  Amphibia  Anura       Bufonidae     Bufo          bufo    ...       \n",
       "3  Amphibia  Anura       Bufonidae     Bufo      calamita    ...       \n",
       "4  Amphibia  Anura         Hylidae     Hyla       arborea    ...       \n",
       "\n",
       "                            locationID  locality countryCode occurrencestatus  \\\n",
       "0  http://marineregions.org/mrgid/2469  Flanders          BE          present   \n",
       "1  http://marineregions.org/mrgid/2469  Flanders          BE          present   \n",
       "2  http://marineregions.org/mrgid/2469  Flanders          BE          present   \n",
       "3  http://marineregions.org/mrgid/2469  Flanders          BE          present   \n",
       "4  http://marineregions.org/mrgid/2469  Flanders          BE          present   \n",
       "\n",
       "                 threadStatus            RLCAsPublished RLC    eventDate  \\\n",
       "0             Endangered (EN)                  Bedreigd  EN  to complete   \n",
       "1     Regionally Extinct (EX)    Regionaal uitgestorven  RE  to complete   \n",
       "2          Least Concern (LC)  Momenteel niet in gevaar  LC  to complete   \n",
       "3             Vulnerable (VU)                 Kwetsbaar  VU  to complete   \n",
       "4  Critically Endangered (CR)          Ernstig bedreigd  CR  to complete   \n",
       "\n",
       "  language2  Checklist  \n",
       "0        nl  validated  \n",
       "1        nl  validated  \n",
       "2        nl  validated  \n",
       "3        nl  validated  \n",
       "4        nl  validated  \n",
       "\n",
       "[5 rows x 39 columns]"
      ]
     },
     "execution_count": 29,
     "metadata": {},
     "output_type": "execute_result"
    }
   ],
   "source": [
    "redListVal.head()"
   ]
  },
  {
   "cell_type": "markdown",
   "metadata": {},
   "source": [
    "#Run script"
   ]
  },
  {
   "cell_type": "code",
   "execution_count": 24,
   "metadata": {
    "collapsed": false
   },
   "outputs": [
    {
     "name": "stdout",
     "output_type": "stream",
     "text": [
      "Using columns ScientificName and Kingdom for API request.\n"
     ]
    }
   ],
   "source": [
    "rematch2_tsv = extract_species_information(\"../processed/validatedRedList-Exploratory-REfine-Notebook-Refine-final-Output-rematch2ready.csv\", \n",
    "                                          output=None,                              \n",
    "                                          api_terms=[\"usageKey\", \n",
    "                                                     \"scientificName\", \n",
    "                                                     \"canonicalName\",\n",
    "                                                     \"status\", \n",
    "                                                     \"rank\", \n",
    "                                                     \"matchType\", \n",
    "                                                     \"confidence\"],\n",
    "                                         )"
   ]
  },
  {
   "cell_type": "code",
   "execution_count": 30,
   "metadata": {
    "collapsed": false
   },
   "outputs": [
    {
     "name": "stdout",
     "output_type": "stream",
     "text": [
      "Using columns ScientificName and Kingdom for API request.\n"
     ]
    }
   ],
   "source": [
    "validatedListrematch3 = extract_species_information(\"../processed/validatedRedList-Exploratory-REfine-Notebook-Refine-final-Output-rematch3ready.csv\", output=None, api_terms=\"all\")"
   ]
  },
  {
   "cell_type": "code",
   "execution_count": null,
   "metadata": {
    "collapsed": false
   },
   "outputs": [],
   "source": [
    "validatedListrematch3.head()"
   ]
  },
  {
   "cell_type": "code",
   "execution_count": 26,
   "metadata": {
    "collapsed": false
   },
   "outputs": [
    {
     "ename": "NameError",
     "evalue": "name 'validatedList' is not defined",
     "output_type": "error",
     "traceback": [
      "\u001b[0;31m---------------------------------------------------------------------------\u001b[0m",
      "\u001b[0;31mNameError\u001b[0m                                 Traceback (most recent call last)",
      "\u001b[0;32m<ipython-input-26-6b92a5aefe31>\u001b[0m in \u001b[0;36m<module>\u001b[0;34m()\u001b[0m\n\u001b[0;32m----> 1\u001b[0;31m \u001b[0mvalidatedList\u001b[0m\u001b[1;33m.\u001b[0m\u001b[0mhead\u001b[0m\u001b[1;33m(\u001b[0m\u001b[1;33m)\u001b[0m\u001b[1;33m\u001b[0m\u001b[0m\n\u001b[0m",
      "\u001b[0;31mNameError\u001b[0m: name 'validatedList' is not defined"
     ]
    }
   ],
   "source": [
    "validatedList.head()"
   ]
  },
  {
   "cell_type": "code",
   "execution_count": 32,
   "metadata": {
    "collapsed": true
   },
   "outputs": [],
   "source": [
    "validatedListrematch3.to_csv(\"validatedRedListDwCNotebookOutputRematch3.csv\", index=False)"
   ]
  },
  {
   "cell_type": "code",
   "execution_count": null,
   "metadata": {
    "collapsed": true
   },
   "outputs": [],
   "source": []
  }
 ],
 "metadata": {
  "kernelspec": {
   "display_name": "Python 3",
   "language": "python",
   "name": "python3"
  },
  "language_info": {
   "codemirror_mode": {
    "name": "ipython",
    "version": 3
   },
   "file_extension": ".py",
   "mimetype": "text/x-python",
   "name": "python",
   "nbconvert_exporter": "python",
   "pygments_lexer": "ipython3",
   "version": "3.6.0"
  }
 },
 "nbformat": 4,
 "nbformat_minor": 2
}
